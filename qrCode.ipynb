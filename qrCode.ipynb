{
 "cells": [
  {
   "cell_type": "code",
   "execution_count": 1,
   "id": "0feb0607",
   "metadata": {},
   "outputs": [],
   "source": [
    "#QRCODE"
   ]
  },
  {
   "cell_type": "code",
   "execution_count": 6,
   "id": "d9f7b59d",
   "metadata": {},
   "outputs": [],
   "source": [
    "import qrcode #bu paketleri daha önceden indirdik\n",
    "import image\n",
    "qr=qrcode.QRCode(\n",
    "    version=15, #qr kodunun sürümünün kod görüntüsünden ve karmaşık resimden daha büyük olduğu anlamına gelir\n",
    "    box_size=10, #qr kodunun görüntüleneceği kutunun boyutu\n",
    "    border=5, #kenarlardan boşluk bırakmak için kullandık\n",
    ")\n",
    "data=\"https://youtu.be/4RPaNSNkd4g\"\n",
    "qr.add_data(data)\n",
    "qr.make(fit=True)\n",
    "img=qr.make_image(fill=\"black\",back_color=\"white\")\n",
    "img.save(\"test.png\")"
   ]
  }
 ],
 "metadata": {
  "kernelspec": {
   "display_name": "Python 3 (ipykernel)",
   "language": "python",
   "name": "python3"
  },
  "language_info": {
   "codemirror_mode": {
    "name": "ipython",
    "version": 3
   },
   "file_extension": ".py",
   "mimetype": "text/x-python",
   "name": "python",
   "nbconvert_exporter": "python",
   "pygments_lexer": "ipython3",
   "version": "3.11.3"
  }
 },
 "nbformat": 4,
 "nbformat_minor": 5
}
